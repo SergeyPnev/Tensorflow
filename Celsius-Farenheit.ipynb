{
 "cells": [
  {
   "cell_type": "code",
   "execution_count": 30,
   "metadata": {},
   "outputs": [],
   "source": [
    "from __future__ import absolute_import, division, print_function, unicode_literals\n",
    "import tensorflow as tf\n",
    "import matplotlib.pyplot as plt\n",
    "\n",
    "import numpy as np"
   ]
  },
  {
   "cell_type": "code",
   "execution_count": 31,
   "metadata": {},
   "outputs": [
    {
     "name": "stdout",
     "output_type": "stream",
     "text": [
      "-40.0 градусов цельсия = -40.0 градусов Фаренгейта\n",
      "-10.0 градусов цельсия = 14.0 градусов Фаренгейта\n",
      "0.0 градусов цельсия = 32.0 градусов Фаренгейта\n",
      "8.0 градусов цельсия = 46.0 градусов Фаренгейта\n",
      "15.0 градусов цельсия = 59.0 градусов Фаренгейта\n",
      "22.0 градусов цельсия = 72.0 градусов Фаренгейта\n",
      "38.0 градусов цельсия = 100.0 градусов Фаренгейта\n"
     ]
    }
   ],
   "source": [
    "celsius_q = np.array([-40, -10, 0, 8, 15, 22, 38], dtype = float)\n",
    "farenheit_a = np.array([-40, 14, 32, 46, 59, 72, 100], dtype = float)\n",
    "\n",
    "for i,c in enumerate(celsius_q):\n",
    "    print('{} градусов цельсия = {} градусов Фаренгейта'.format(c, farenheit_a[i]))"
   ]
  },
  {
   "cell_type": "code",
   "execution_count": 32,
   "metadata": {},
   "outputs": [],
   "source": [
    "l0 = tf.keras.layers.Dense(units=1, input_shape=[1])"
   ]
  },
  {
   "cell_type": "code",
   "execution_count": 33,
   "metadata": {},
   "outputs": [],
   "source": [
    "model = tf.keras.Sequential([l0])"
   ]
  },
  {
   "cell_type": "code",
   "execution_count": 34,
   "metadata": {},
   "outputs": [],
   "source": [
    "model.compile(loss = 'mean_squared_error', optimizer = tf.keras.optimizers.Adam(0.1))"
   ]
  },
  {
   "cell_type": "code",
   "execution_count": 35,
   "metadata": {},
   "outputs": [],
   "source": [
    "history = model.fit(celsius_q, farenheit_a, epochs = 500, verbose = False)"
   ]
  },
  {
   "cell_type": "code",
   "execution_count": 40,
   "metadata": {},
   "outputs": [
    {
     "data": {
      "image/png": "[encoded data removed]",
      "text/plain": [
       "<Figure size 432x288 with 1 Axes>"
      ]
     },
     "metadata": {
      "needs_background": "light"
     },
     "output_type": "display_data"
    }
   ],
   "source": [
    "plt.xlabel('Epochs')\n",
    "plt.ylabel('Loss')\n",
    "plt.plot(history.history['loss']);"
   ]
  },
  {
   "cell_type": "code",
   "execution_count": 42,
   "metadata": {},
   "outputs": [
    {
     "name": "stdout",
     "output_type": "stream",
     "text": [
      "[[211.29005]]\n"
     ]
    }
   ],
   "source": [
    "print(model.predict([100.0]))"
   ]
  },
  {
   "cell_type": "code",
   "execution_count": 43,
   "metadata": {},
   "outputs": [
    {
     "name": "stdout",
     "output_type": "stream",
     "text": [
      "это значения переменных слоя:[array([[1.8270367]], dtype=float32), array([28.586376], dtype=float32)]\n"
     ]
    }
   ],
   "source": [
    "print('это значения переменных слоя:{}'.format(l0.get_weights()) )"
   ]
  },
  {
   "cell_type": "code",
   "execution_count": 47,
   "metadata": {},
   "outputs": [],
   "source": [
    "l0= tf.keras.layers.Dense(units=4, input_shape=[1])\n",
    "l1= tf.keras.layers.Dense(units=4)\n",
    "l2= tf.keras.layers.Dense(units=1)"
   ]
  },
  {
   "cell_type": "code",
   "execution_count": 48,
   "metadata": {},
   "outputs": [],
   "source": [
    "model = tf.keras.Sequential([l0, l1, l2])"
   ]
  },
  {
   "cell_type": "code",
   "execution_count": 49,
   "metadata": {},
   "outputs": [
    {
     "data": {
      "text/plain": [
       "<tensorflow.python.keras.callbacks.History at 0x234311f5d88>"
      ]
     },
     "execution_count": 49,
     "metadata": {},
     "output_type": "execute_result"
    }
   ],
   "source": [
    "model.compile(loss = 'mean_squared_error', optimizer = tf.keras.optimizers.Adam(0.1))\n",
    "model.fit(celsius_q, farenheit_a, epochs = 500, verbose = False)"
   ]
  },
  {
   "cell_type": "code",
   "execution_count": 52,
   "metadata": {},
   "outputs": [
    {
     "name": "stdout",
     "output_type": "stream",
     "text": [
      "значения внутренних переменных слоя1 [array([[-0.39220175,  0.19378121, -0.9438197 , -0.01708274]],\n",
      "      dtype=float32), array([ 1.0019473,  0.7468586, -3.3173115, -2.9445386], dtype=float32)]\n",
      "значения внутренних переменных слоя2 [array([[-0.05197671, -0.338087  , -1.2845048 ,  0.6203106 ],\n",
      "       [ 0.02006195, -0.6675641 , -0.4800431 , -0.44742066],\n",
      "       [-1.0858305 ,  0.16516025,  0.69591516, -0.47534788],\n",
      "       [-0.5677659 , -0.49573976,  0.8667099 ,  0.16091383]],\n",
      "      dtype=float32), array([ 3.3015378,  1.6478064, -3.3124616,  2.7630153], dtype=float32)]\n",
      "значения внутренних переменных слоя3 [array([[ 1.3607349 ],\n",
      "       [ 0.53591055],\n",
      "       [-1.2544607 ],\n",
      "       [ 0.9251193 ]], dtype=float32), array([3.2516727], dtype=float32)]\n"
     ]
    }
   ],
   "source": [
    "print('значения внутренних переменных слоя1 {}'.format(l0.get_weights()))\n",
    "print('значения внутренних переменных слоя2 {}'.format(l1.get_weights()))\n",
    "print('значения внутренних переменных слоя3 {}'.format(l2.get_weights()))"
   ]
  },
  {
   "cell_type": "code",
   "execution_count": null,
   "metadata": {},
   "outputs": [],
   "source": []
  }
 ],
 "metadata": {
  "kernelspec": {
   "display_name": "Python 3",
   "language": "python",
   "name": "python3"
  },
  "language_info": {
   "codemirror_mode": {
    "name": "ipython",
    "version": 3
   },
   "file_extension": ".py",
   "mimetype": "text/x-python",
   "name": "python",
   "nbconvert_exporter": "python",
   "pygments_lexer": "ipython3",
   "version": "3.7.4"
  }
 },
 "nbformat": 4,
 "nbformat_minor": 2
}
